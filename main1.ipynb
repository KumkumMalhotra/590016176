{
 "cells": [
  {
   "cell_type": "code",
   "execution_count": 8,
   "id": "e7c5a272",
   "metadata": {},
   "outputs": [
    {
     "name": "stdout",
     "output_type": "stream",
     "text": [
      "Enter any positive number: 16\n",
      "1728011005.363448\n",
      "0\n",
      "10\n",
      "20\n",
      "30\n",
      "40\n",
      "50\n",
      "60\n",
      "70\n",
      "80\n",
      "90\n",
      "100\n",
      "110\n",
      "120\n",
      "130\n",
      "140\n",
      "150\n",
      "160\n",
      "1728011005.363448\n"
     ]
    }
   ],
   "source": [
    "#write a function that takes one input n parameter and calculates a = n*10\n",
    "\n",
    "def multiply(n):\n",
    "    for i in range(0,n+1):\n",
    "        a=i*10\n",
    "        print(a)\n",
    "        \n",
    "n = int(input(\"Enter any positive number: \"))\n",
    "\n",
    "import time\n",
    "start_time = time.time()\n",
    "print(start_time)\n",
    "multiply(n)\n",
    "\n",
    "end_time = time.time()\n",
    "print(end_time)"
   ]
  },
  {
   "cell_type": "code",
   "execution_count": null,
   "id": "453e9e9d",
   "metadata": {},
   "outputs": [],
   "source": []
  }
 ],
 "metadata": {
  "kernelspec": {
   "display_name": "Python 3 (ipykernel)",
   "language": "python",
   "name": "python3"
  },
  "language_info": {
   "codemirror_mode": {
    "name": "ipython",
    "version": 3
   },
   "file_extension": ".py",
   "mimetype": "text/x-python",
   "name": "python",
   "nbconvert_exporter": "python",
   "pygments_lexer": "ipython3",
   "version": "3.9.13"
  }
 },
 "nbformat": 4,
 "nbformat_minor": 5
}
